{
 "cells": [
  {
   "cell_type": "markdown",
   "id": "7151df64",
   "metadata": {
    "id": "7151df64"
   },
   "source": [
    "# Day 3 exercise with Sentinel-1 SAR\n"
   ]
  },
  {
   "cell_type": "markdown",
   "id": "20a24a86",
   "metadata": {
    "id": "20a24a86"
   },
   "source": [
    "The purpose of this exercise is to familiarise with SAR data and enable you to download Sentine-1 SAR data, display it and create a composite SAR image. First, initialise and import the necessaries packages."
   ]
  },
  {
   "cell_type": "code",
   "execution_count": null,
   "id": "9a8113a0",
   "metadata": {
    "colab": {
     "base_uri": "https://localhost:8080/"
    },
    "executionInfo": {
     "elapsed": 21653,
     "status": "ok",
     "timestamp": 1749041001170,
     "user": {
      "displayName": "Andreas Rønne Stokholm",
      "userId": "01184442013756499221"
     },
     "user_tz": -120
    },
    "id": "9a8113a0",
    "outputId": "692bd8bf-7c9d-4160-9f76-9f16cac823e7"
   },
   "outputs": [],
   "source": [
    "# -- File info -- #\n",
    "__author__ = ['Andreas R. Stokholm', 'Sebastian B. Simonsen']\n",
    "__copyright__ = ['A Stokholm', 'SB Simonsen']\n",
    "__contact__ = ['stokholm@space.dtu.dk', 'ssim@space.dtu.dk']\n",
    "__version__ = '0.2.2'\n",
    "__date__ = '2025'\n",
    "\n",
    "# -- Built-in modules -- #\n",
    "import os\n",
    "import sys\n",
    "\n",
    "# -- Third-party modules -- #\n",
    "import matplotlib.pyplot as plt\n",
    "import numpy as np\n",
    "import zipfile\n",
    "from PIL import Image\n",
    "Image.MAX_IMAGE_PIXELS = None\n",
    "\n",
    "# from google.colab import drive\n",
    "# drive.mount('/gdrive', force_remount=True)\n",
    "# %cd /gdrive/MyDrive/EO4Change/ex/S1 ex\n"
   ]
  },
  {
   "cell_type": "markdown",
   "id": "41d53fbd",
   "metadata": {
    "id": "41d53fbd"
   },
   "source": [
    "## Q1, downloading the data:\n",
    "First step is to download the data from the Copernicus Browser, https://browser.dataspace.copernicus.eu. Follow these steps:\n",
    "\n",
    "\n",
    "1.   Click on Search\n",
    "2.   Select Sentinel-1 from the \"Data Sources\" list\n",
    "3.   Select Level-1 GRD\n",
    "4.   Click \"Filters\", select relevant acquisition mode, typically IW for land and EW for the Arctic Ocean, see https://sentinel.esa.int/web/sentinel/copernicus/sentinel-1/acquisition-plans\n",
    "5.   Select the relevant time range\n",
    "6.   Draw a polygon over an interesting area (pentagon, second icon in the upper right corner)\n",
    "7.   Click search\n",
    "8.   Select a file from the list of a square on the map and download the file.\n",
    "\n",
    "The file may take some minutes to download. Once the download is finished, place the file in the google drive folder that contains this script and continue with the cell below, which unzips the file."
   ]
  },
  {
   "cell_type": "code",
   "execution_count": null,
   "id": "CyTClM1QFl9B",
   "metadata": {
    "id": "CyTClM1QFl9B"
   },
   "outputs": [],
   "source": [
    "def unzip_safe_file(zip_file: str):\n",
    "    # -- Unzip a file in data directory. -- #\n",
    "    files = os.listdir()\n",
    "    if '.zip' in zip_file:\n",
    "      safe_files = [file.split('.')[0] for file in files if '.SAFE' in file and not '.zip' in file]  # Find all .SAFE files.\n",
    "\n",
    "      if zip_file.split('.')[0] not in safe_files:\n",
    "        # Unzip file.\n",
    "        print(f\"unzipping {zip_file}\")\n",
    "        to_unzip = zipfile.ZipFile(zip_file, 'r')\n",
    "        to_unzip.extractall()\n",
    "        to_unzip.close()\n",
    "        print(f\"unzipped {zip_file}\")\n",
    "      else:\n",
    "        print('file already unzipped')\n",
    "\n",
    "    else:\n",
    "      print('not a .zip file')\n",
    "\n",
    "file_to_unzip = 'S1C_IW_GRDH_1SDV_20250608T053144_20250608T053209_002687_0058C3_2A94.SAFE.zip'\n",
    "unzip_safe_file(zip_file=file_to_unzip)"
   ]
  },
  {
   "cell_type": "markdown",
   "id": "7aae8cdb",
   "metadata": {
    "id": "7aae8cdb"
   },
   "source": [
    "# Q2, displaying the image:\n",
    "Enter name of the downloaded and unzipped Sentinel-1 file (Do not include the file extension) and select the polarisation to visualise:"
   ]
  },
  {
   "cell_type": "code",
   "execution_count": null,
   "id": "377d6a0e",
   "metadata": {
    "id": "377d6a0e"
   },
   "outputs": [],
   "source": [
    "# -- Insert your code -- #\n",
    "file = 'S1C_IW_GRDH_1SDV_20250608T053144_20250608T053209_002687_0058C3_2A94'  # example\n",
    "\n",
    "# Read SAR file. Note that this is just one polarization.\n",
    "tiff_index = 1 # Should be 1 for VV. Change to 0 for VH.\n",
    "\n",
    "# -- End of your code -- #\n",
    "\n",
    "cwd = os.getcwd()  # Keep track of work directory.\n",
    "basedir = cwd + os.sep + file + '.SAFE' + os.sep + 'measurement'\n",
    "tiff_file = os.listdir(basedir)[tiff_index]\n",
    "img = plt.imread(basedir + os.sep + tiff_file)[::4, ::4]  # Read tiff file. This selects every fourth pixel to preserve RAM (otherwise it may runout in the following exercises)\n",
    "s1_img = plt.figure()\n",
    "plt.imshow(img, cmap='gray')  # It is custom to display SAR images in grayscale.\n",
    "plt.colorbar()\n",
    "plt.show()\n",
    "\n",
    "print(f\"Displaying: {file}\")\n"
   ]
  },
  {
   "cell_type": "markdown",
   "id": "fd58d6f8",
   "metadata": {
    "id": "fd58d6f8"
   },
   "source": [
    "# Q3, investigating the image:\n",
    "The script should run as long as the filename has been added. However, the displayed file is likely not displaying anything useful. What could be the reason for this?\n",
    "Hint: look at the mean value and the maximum and/or minimum values."
   ]
  },
  {
   "cell_type": "code",
   "execution_count": null,
   "id": "40ff8060",
   "metadata": {
    "id": "40ff8060"
   },
   "outputs": [],
   "source": [
    "# -- Insert your code --#\n",
    "np.quantile(img, [0, 0.01, 0.05, 0.1, 0.25, 0.5, 0.75, 0.9, 0.95, 0.99, 1])  # Display quantiles of the image.\n",
    "\n",
    "\n",
    "# -- End of your code -- #"
   ]
  },
  {
   "cell_type": "markdown",
   "id": "62ada7df",
   "metadata": {
    "id": "62ada7df"
   },
   "source": [
    "Typically the colorscale is stretched between the minimum and maximum values because of a few outliers.\n",
    "We can get around this by displaying the image without outliers. This can be done using quartiles of the image.\n",
    "E.g. np.quantile(a=img, q=), where q is the quantile between 0-1. Typical values are 0.05 and 0.95.\n",
    "It may be useful to print the quartile values. The quartiles should be added to the plt.imshow function below.\n",
    "The relevant arguments are: vmin, vmax.\n",
    "https://numpy.org/doc/stable/reference/generated/numpy.quantile.html\n",
    "    "
   ]
  },
  {
   "cell_type": "code",
   "execution_count": null,
   "id": "aa3e433f",
   "metadata": {
    "id": "aa3e433f"
   },
   "outputs": [],
   "source": [
    "# -- Insert your code --#\n",
    "q05 = np.quantile(img, 0.05)  # 5th percentile\n",
    "q95 = np.quantile(img, 0.95)  # 95th percentile\n",
    "\n",
    "\n",
    "\n",
    "# -- End of your code -- #"
   ]
  },
  {
   "cell_type": "markdown",
   "id": "920634ff",
   "metadata": {
    "id": "920634ff"
   },
   "source": [
    "Hopefully you should now see a SAR image of some place on Earth.\n",
    "Is it upside down? If it is, what could be the reason for this? You can fix this by flipping the img array using np.flip(img, axis= ) (axis = 0 or 1)"
   ]
  },
  {
   "cell_type": "code",
   "execution_count": null,
   "id": "b3870751",
   "metadata": {
    "id": "b3870751"
   },
   "outputs": [],
   "source": [
    "s1_img = plt.figure()\n",
    "\n",
    "# -- Your code goes here -- #\n",
    "flip_img = np.flip(img, axis=1)  # Flip the image vertically to match the orientation of the map.\n",
    "plt.imshow(flip_img, cmap='gray', vmin=q05, vmax=q95)  # It is custom to display SAR images in grayscale.\n",
    "\n",
    "# -- End of your code -- #\n",
    "\n",
    "plt.colorbar()\n",
    "plt.show()"
   ]
  },
  {
   "cell_type": "markdown",
   "id": "a36e3ec4",
   "metadata": {
    "id": "a36e3ec4"
   },
   "source": [
    "Find anything interesting in the image? Let's look at it tomorrow in the lecture.\n",
    "Send a copy to stokholm@space.dtu.dk either by screenshotting or by saving the image with"
   ]
  },
  {
   "cell_type": "code",
   "execution_count": null,
   "id": "ecd641f6",
   "metadata": {
    "id": "ecd641f6"
   },
   "outputs": [],
   "source": [
    "s1_img.savefig('cool_s1_image.png', format='png')"
   ]
  },
  {
   "cell_type": "markdown",
   "id": "d75582b8",
   "metadata": {
    "id": "d75582b8"
   },
   "source": [
    "# Q4, composite image:\n",
    "So far we have only looked at one SAR channel, either the VV/HH or VH/HV (depending on the location of the image) but that is only half the information, and almost like only looking at the red channel of an RGB image. A common way to display multiple channels as a single image is to create a composite RGB image with the co-polarised channel as red, cross-polarised channel as green and the ratio between the co and cross-polarised channels as blue (VV / VH). Your task is to create such a composite image with your downloaded file.\n",
    "Tips:\n",
    "\n",
    "\n",
    "1.   Be careful when making the ratio, as you may be dividing with 0, which creates nans. These nans should be replaced by 0s.\n",
    "2.   Clip the values of vv and hh using np.clip and the quantiles for each channel.\n",
    "3.   Normalise the vv and vh values to be within 0-1.\n",
    "4.   Create a 3D array with the shape: [X, Y, 3]\n"
   ]
  },
  {
   "cell_type": "code",
   "execution_count": null,
   "id": "ec8a3056",
   "metadata": {},
   "outputs": [],
   "source": [
    "vv_raw = plt.imread(basedir + os.sep + os.listdir(basedir)[1])[::4, ::4]  # Read VV tiff file.\n",
    "vh_raw = plt.imread(basedir + os.sep + os.listdir(basedir)[0])[::4, ::4]  # Read VH tiff file.\n"
   ]
  },
  {
   "cell_type": "code",
   "execution_count": null,
   "id": "dd4e23e8",
   "metadata": {
    "id": "dd4e23e8"
   },
   "outputs": [],
   "source": [
    "vv = vv_raw\n",
    "vh = vh_raw\n",
    "\n",
    "# -- Your code goes here -- #\n",
    "\n",
    "vv = np.clip(vv, np.quantile(vv, 0.05), np.quantile(vv, 0.95))  # Clip the VV image to the 5th and 95th percentiles.\n",
    "vh = np.clip(vh, np.quantile(vh, 0.05), np.quantile(vh, 0.95))  # Clip the VH image to the 5th and 95th percentiles.\n",
    "\n",
    "ratio = np.divide(vv, vh, out=np.zeros_like(vv), where=vh != 0)\n",
    "\n",
    "\n",
    "def normalize(img):\n",
    "    p_low, p_high = np.percentile(img, [1, 99])\n",
    "    return np.clip((img - p_low) / (p_high - p_low), 0, 1)\n",
    "\n",
    "R = normalize(vv)\n",
    "G = normalize(vh)\n",
    "B = normalize(ratio)\n",
    "\n",
    "\n",
    "rgb = np.stack((R, G, B), axis=-1)  # Stack the VV, VH and ratio images to create an RGB image.\n",
    "rgb = np.flip(rgb, axis=1)  # Flip the RGB image vertically to match the orientation of the map.\n",
    "# -- End of your code --#\n",
    "\n",
    "s1_rgb_img = plt.figure()\n",
    "plt.imshow(rgb)\n"
   ]
  },
  {
   "cell_type": "code",
   "execution_count": null,
   "id": "c76e03d0",
   "metadata": {},
   "outputs": [],
   "source": []
  },
  {
   "cell_type": "markdown",
   "id": "e685a213",
   "metadata": {
    "id": "e685a213"
   },
   "source": [
    "What can you say about the image? Did new details or texture appear or becamse more pronounced compared to the grayscale image? What does the ratio beteen the co and cross-polarised channels indicate?\n",
    "Let's look at it tomorrow in the lecture. Add the image to these [slides](https://docs.google.com/presentation/d/1KoxXsDaGcqR8J4NcFlGh7MBL7zII5V95/edit?usp=sharing&ouid=105485225177375608793&rtpof=true&sd=true) or send copy to stokholm@space.dtu.dk either by screenshotting or by saving the image with:"
   ]
  },
  {
   "cell_type": "code",
   "execution_count": null,
   "id": "1ed52948",
   "metadata": {
    "id": "1ed52948"
   },
   "outputs": [],
   "source": [
    "s1_rgb_img.savefig('cool_s1_rgbimage.png', format='png')"
   ]
  }
 ],
 "metadata": {
  "colab": {
   "provenance": []
  },
  "kernelspec": {
   "display_name": "thomas",
   "language": "python",
   "name": "python3"
  },
  "language_info": {
   "codemirror_mode": {
    "name": "ipython",
    "version": 3
   },
   "file_extension": ".py",
   "mimetype": "text/x-python",
   "name": "python",
   "nbconvert_exporter": "python",
   "pygments_lexer": "ipython3",
   "version": "3.13.1"
  }
 },
 "nbformat": 4,
 "nbformat_minor": 5
}
